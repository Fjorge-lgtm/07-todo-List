{
  "nbformat": 4,
  "nbformat_minor": 0,
  "metadata": {
    "colab": {
      "provenance": [],
      "authorship_tag": "ABX9TyNox/TqrYXuldlrsRs7hl25",
      "include_colab_link": true
    },
    "kernelspec": {
      "name": "python3",
      "display_name": "Python 3"
    },
    "language_info": {
      "name": "python"
    }
  },
  "cells": [
    {
      "cell_type": "markdown",
      "metadata": {
        "id": "view-in-github",
        "colab_type": "text"
      },
      "source": [
        "<a href=\"https://colab.research.google.com/github/Fjorge-lgtm/07-todo-List/blob/main/Dicionario.ipynb\" target=\"_parent\"><img src=\"https://colab.research.google.com/assets/colab-badge.svg\" alt=\"Open In Colab\"/></a>"
      ]
    },
    {
      "cell_type": "code",
      "source": [
        "D= {\"Salgado\": 15.00, \"Lanche\": 20.60, \"Suco\": 10.00, \"Refrigerante\":6.00, \"Doce\": 12.00}\n",
        "print(D)\n",
        "print(D[\"Lanche\"])\n",
        "print(D[\"Doce\"])\n",
        "print(D[\"Refrigerante\"])"
      ],
      "metadata": {
        "id": "2uH9Sxu2Uu9l",
        "colab": {
          "base_uri": "https://localhost:8080/"
        },
        "outputId": "d0dafc10-7839-4db4-83c4-db19fd2238a6"
      },
      "execution_count": 19,
      "outputs": [
        {
          "output_type": "stream",
          "name": "stdout",
          "text": [
            "{'Salgado': 15.0, 'Lanche': 20.6, 'Suco': 10.0, 'Refrigerante': 6.0, 'Doce': 12.0}\n",
            "20.6\n",
            "12.0\n",
            "6.0\n"
          ]
        }
      ]
    },
    {
      "cell_type": "code",
      "source": [],
      "metadata": {
        "id": "aMXBlaaf9g3I"
      },
      "execution_count": null,
      "outputs": []
    }
  ]
}