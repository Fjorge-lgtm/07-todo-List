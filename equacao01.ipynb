{
  "nbformat": 4,
  "nbformat_minor": 0,
  "metadata": {
    "colab": {
      "provenance": [],
      "toc_visible": true,
      "authorship_tag": "ABX9TyPT2BdFwgPWLipHhgIT1w9G",
      "include_colab_link": true
    },
    "kernelspec": {
      "name": "python3",
      "display_name": "Python 3"
    },
    "language_info": {
      "name": "python"
    }
  },
  "cells": [
    {
      "cell_type": "markdown",
      "metadata": {
        "id": "view-in-github",
        "colab_type": "text"
      },
      "source": [
        "<a href=\"https://colab.research.google.com/github/Fjorge-lgtm/07-todo-List/blob/main/equacao01.ipynb\" target=\"_parent\"><img src=\"https://colab.research.google.com/assets/colab-badge.svg\" alt=\"Open In Colab\"/></a>"
      ]
    },
    {
      "cell_type": "code",
      "execution_count": 18,
      "metadata": {
        "colab": {
          "base_uri": "https://localhost:8080/"
        },
        "id": "qg7gthvKiIGV",
        "outputId": "d87d318a-779f-40b6-a77a-30ed8289cbba"
      },
      "outputs": [
        {
          "output_type": "stream",
          "name": "stdout",
          "text": [
            "Entre com valor de x =3\n",
            "Entre com valor de y = 2\n",
            "O valor de z é = 13.0\n"
          ]
        }
      ],
      "source": [
        "x = int(input(\"Entre com valor de x =\"))\n",
        "y = int(input (\"Entre com valor de y = \"))\n",
        "z = (x**2+y**2)/((x-y)**2)\n",
        "print(\"O valor de z é = \" + str(z))"
      ]
    },
    {
      "cell_type": "code",
      "source": [
        "salario = float(input(\"Digite o valor do salário do funcionario: \"))\n",
        "reajuste = salario + 5*salario/100\n",
        "print (\"O salario reajustado 5% é = \" + str(reajuste))"
      ],
      "metadata": {
        "colab": {
          "base_uri": "https://localhost:8080/"
        },
        "id": "ZNlrkm5ZybVq",
        "outputId": "39fdd94a-82c7-4659-9b61-7f972807e841"
      },
      "execution_count": 23,
      "outputs": [
        {
          "output_type": "stream",
          "name": "stdout",
          "text": [
            "Digite o valor do salário do funcionario: 1000\n",
            "O salario reajustado 5% é = 1050.0\n"
          ]
        }
      ]
    },
    {
      "cell_type": "code",
      "source": [],
      "metadata": {
        "id": "DR-am-Tnjc7i"
      },
      "execution_count": null,
      "outputs": []
    },
    {
      "cell_type": "markdown",
      "source": [],
      "metadata": {
        "id": "84c1DhxW1D7N"
      }
    }
  ]
}